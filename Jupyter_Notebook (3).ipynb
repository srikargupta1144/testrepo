{
 "cells": [
  {
   "cell_type": "markdown",
   "metadata": {},
   "source": [
    "<center>\n",
    "    <img src=\"https://cf-courses-data.s3.us.cloud-object-storage.appdomain.cloud/IBMDeveloperSkillsNetwork-DS0105EN-SkillsNetwork/labs/Module2/images/SN_web_lightmode.png\" width=\"300\" alt=\"cognitiveclass.ai logo\">\n",
    "</center>\n"
   ]
  },
  {
   "cell_type": "markdown",
   "metadata": {},
   "source": [
    "#### Add your code below following the instructions given in the course\n"
   ]
  },
  {
   "cell_type": "markdown",
   "metadata": {},
   "source": [
    "## Coursera first notebook"
   ]
  },
  {
   "cell_type": "markdown",
   "metadata": {},
   "source": [
    "## Introduction to Data science course and we are going to explore the data science libraries, languages, table of science tools, and some other codes on arithmetic functions and etc..,"
   ]
  },
  {
   "cell_type": "markdown",
   "metadata": {
    "tags": []
   },
   "source": [
    "## List of data science languages\n",
    "we can use data science in programming languages such as R, Julia, Python, Scala, Java, and SQL etc...,"
   ]
  },
  {
   "cell_type": "markdown",
   "metadata": {},
   "source": [
    "## List data science libraries\n",
    "-> numpy\n",
    "-> pandas\n",
    "-> matplot\n",
    "-> Seaborn\n",
    "-> Scikit-learn\n",
    "-> Tensor flow\n",
    "-> pytorch\n",
    "-> Requests"
   ]
  },
  {
   "cell_type": "markdown",
   "metadata": {},
   "source": [
    "## List of data science tools\n",
    "- Rstudio\n",
    "- Jupyternotebooks\n",
    "- Apache Hadoop\n",
    "- Tableau\n",
    "- PowerBI\n",
    "- Python\n",
    "- Excel\n",
    "- Visual studio"
   ]
  },
  {
   "cell_type": "markdown",
   "metadata": {},
   "source": [
    "## List of arithmetic expressions examples\n",
    "a=5 , a is a variable and it stores that numerical number for temporary time.\n",
    "b=7\n",
    "c=(a+b), + sum of numbers in arithmetic expression.\n",
    "c=(a-b), - difference between numbers in arithmetic expressions\n",
    "c=(a*b), * product of numbers in arithmetic expressions\n",
    "c=(a/b), / division of numbers in arithmetic expressions\n",
    "c=(a//b), // floor division of numbers in arithmetic expressions\n",
    "c=(a**b), ** exponential of numbers in arithmetic expressions"
   ]
  },
  {
   "cell_type": "code",
   "execution_count": 5,
   "metadata": {},
   "outputs": [
    {
     "name": "stdout",
     "output_type": "stream",
     "text": [
      "39\n"
     ]
    }
   ],
   "source": [
    "## First we mutliplied the numbers and later on we add number to product\n",
    "a = 5\n",
    "b = 6\n",
    "v = 9\n",
    "f = ((a*b)+v)\n",
    "print(f)"
   ]
  },
  {
   "cell_type": "code",
   "execution_count": 13,
   "metadata": {},
   "outputs": [
    {
     "name": "stdout",
     "output_type": "stream",
     "text": [
      "83 hours:20 minutes \n"
     ]
    }
   ],
   "source": [
    "# Converting minutes into hours\n",
    "ttl_min = 5000\n",
    "hr = ttl_min // 60\n",
    "mins = ttl_min % 60\n",
    "\n",
    "time = \"{} hours:{} minutes \".format(hr, mins)\n",
    "print(time)"
   ]
  },
  {
   "cell_type": "markdown",
   "metadata": {},
   "source": [
    "## List of Objectives in data science\n",
    "Collect the data\n",
    "Prepare the data \n",
    "Process the data\n",
    "Analyze the data\n",
    "Planning the data"
   ]
  },
  {
   "cell_type": "markdown",
   "metadata": {},
   "source": [
    "  Author name is "
   ]
  }
 ],
 "metadata": {
  "kernelspec": {
   "display_name": "Python",
   "language": "python",
   "name": "conda-env-python-py"
  },
  "language_info": {
   "codemirror_mode": {
    "name": "ipython",
    "version": 3
   },
   "file_extension": ".py",
   "mimetype": "text/x-python",
   "name": "python",
   "nbconvert_exporter": "python",
   "pygments_lexer": "ipython3",
   "version": "3.7.12"
  }
 },
 "nbformat": 4,
 "nbformat_minor": 4
}
